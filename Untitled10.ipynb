{
  "nbformat": 4,
  "nbformat_minor": 0,
  "metadata": {
    "colab": {
      "provenance": [],
      "authorship_tag": "ABX9TyO3lLnYNIrGP0MMBeBsvniq",
      "include_colab_link": true
    },
    "kernelspec": {
      "name": "python3",
      "display_name": "Python 3"
    },
    "language_info": {
      "name": "python"
    }
  },
  "cells": [
    {
      "cell_type": "markdown",
      "metadata": {
        "id": "view-in-github",
        "colab_type": "text"
      },
      "source": [
        "<a href=\"https://colab.research.google.com/github/Aakash-sam/lab-experiments/blob/main/Untitled10.ipynb\" target=\"_parent\"><img src=\"https://colab.research.google.com/assets/colab-badge.svg\" alt=\"Open In Colab\"/></a>"
      ]
    },
    {
      "cell_type": "code",
      "execution_count": 1,
      "metadata": {
        "colab": {
          "base_uri": "https://localhost:8080/"
        },
        "id": "V4LxQ4vJepz9",
        "outputId": "9628765a-7f66-47df-ddca-bec7f506bfd2"
      },
      "outputs": [
        {
          "output_type": "stream",
          "name": "stdout",
          "text": [
            "Epoch 1/10\n",
            "20/20 [==============================] - 3s 39ms/step - loss: 0.6808 - accuracy: 0.5109 - val_loss: 0.6603 - val_accuracy: 0.5813\n",
            "Epoch 2/10\n",
            "20/20 [==============================] - 0s 10ms/step - loss: 0.6615 - accuracy: 0.5250 - val_loss: 0.6359 - val_accuracy: 0.6000\n",
            "Epoch 3/10\n",
            "20/20 [==============================] - 0s 12ms/step - loss: 0.6433 - accuracy: 0.5703 - val_loss: 0.6170 - val_accuracy: 0.6438\n",
            "Epoch 4/10\n",
            "20/20 [==============================] - 0s 6ms/step - loss: 0.6242 - accuracy: 0.6281 - val_loss: 0.5960 - val_accuracy: 0.6750\n",
            "Epoch 5/10\n",
            "20/20 [==============================] - 0s 9ms/step - loss: 0.6037 - accuracy: 0.6719 - val_loss: 0.5751 - val_accuracy: 0.6875\n",
            "Epoch 6/10\n",
            "20/20 [==============================] - 0s 13ms/step - loss: 0.5818 - accuracy: 0.7312 - val_loss: 0.5536 - val_accuracy: 0.7500\n",
            "Epoch 7/10\n",
            "20/20 [==============================] - 0s 9ms/step - loss: 0.5579 - accuracy: 0.7844 - val_loss: 0.5313 - val_accuracy: 0.8188\n",
            "Epoch 8/10\n",
            "20/20 [==============================] - 0s 10ms/step - loss: 0.5330 - accuracy: 0.8031 - val_loss: 0.5065 - val_accuracy: 0.8438\n",
            "Epoch 9/10\n",
            "20/20 [==============================] - 0s 8ms/step - loss: 0.5071 - accuracy: 0.8469 - val_loss: 0.4843 - val_accuracy: 0.9125\n",
            "Epoch 10/10\n",
            "20/20 [==============================] - 0s 13ms/step - loss: 0.4808 - accuracy: 0.8703 - val_loss: 0.4582 - val_accuracy: 0.9187\n",
            "7/7 [==============================] - 0s 11ms/step\n",
            "Test accuracy: 0.8850\n"
          ]
        }
      ],
      "source": [
        "import numpy as np\n",
        "import tensorflow as tf\n",
        "from tensorflow.keras.models import Sequential\n",
        "from tensorflow.keras.layers import Dense,Input\n",
        "from sklearn.model_selection import train_test_split\n",
        "from sklearn.metrics import accuracy_score\n",
        "np.random.seed(42)\n",
        "X = np.random.rand(1000, 2)\n",
        "y = (X[:, 0] + X[:, 1] > 1).astype(int)\n",
        "X_train, X_test, y_train, y_test = train_test_split(X, y, test_size=0.2,\n",
        "random_state=42)\n",
        "model = Sequential([Input(shape=(2)),Dense(64, activation='relu'),Dense(1,\n",
        "activation='sigmoid')])\n",
        "model.compile(optimizer='adam',loss='binary_crossentropy',metrics=['accuracy'])\n",
        "model.fit(X_train, y_train, epochs=10, batch_size=32, validation_split=0.2)\n",
        "y_pred = model.predict(X_test)\n",
        "y_pred_binary = (y_pred > 0.5).astype(int)\n",
        "test_accuracy = accuracy_score(y_test, y_pred_binary)\n",
        "print(f\"Test accuracy: {test_accuracy:.4f}\")"
      ]
    }
  ]
}