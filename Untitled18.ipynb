{
  "nbformat": 4,
  "nbformat_minor": 0,
  "metadata": {
    "colab": {
      "provenance": [],
      "authorship_tag": "ABX9TyMQBVr/dRq+urX8/lKWsmS9",
      "include_colab_link": true
    },
    "kernelspec": {
      "name": "python3",
      "display_name": "Python 3"
    },
    "language_info": {
      "name": "python"
    }
  },
  "cells": [
    {
      "cell_type": "markdown",
      "metadata": {
        "id": "view-in-github",
        "colab_type": "text"
      },
      "source": [
        "<a href=\"https://colab.research.google.com/github/Aakash-sam/lab-experiments/blob/main/Untitled18.ipynb\" target=\"_parent\"><img src=\"https://colab.research.google.com/assets/colab-badge.svg\" alt=\"Open In Colab\"/></a>"
      ]
    },
    {
      "cell_type": "code",
      "execution_count": 1,
      "metadata": {
        "colab": {
          "base_uri": "https://localhost:8080/"
        },
        "id": "DQVCdlueSMRH",
        "outputId": "38e04813-532d-43a0-a6de-b371b0df2488"
      },
      "outputs": [
        {
          "output_type": "stream",
          "name": "stdout",
          "text": [
            "Downloading data from https://storage.googleapis.com/tensorflow/tf-keras-datasets/mnist.npz\n",
            "11490434/11490434 [==============================] - 0s 0us/step\n",
            "Epoch 1/10\n",
            "300/300 - 54s - loss: 0.3685 - accuracy: 0.8886 - val_loss: 0.0781 - val_accuracy: 0.9753 - 54s/epoch - 181ms/step\n",
            "Epoch 2/10\n",
            "300/300 - 47s - loss: 0.1101 - accuracy: 0.9661 - val_loss: 0.0488 - val_accuracy: 0.9843 - 47s/epoch - 158ms/step\n",
            "Epoch 3/10\n",
            "300/300 - 47s - loss: 0.0816 - accuracy: 0.9761 - val_loss: 0.0369 - val_accuracy: 0.9879 - 47s/epoch - 157ms/step\n",
            "Epoch 4/10\n",
            "300/300 - 48s - loss: 0.0668 - accuracy: 0.9799 - val_loss: 0.0336 - val_accuracy: 0.9879 - 48s/epoch - 161ms/step\n",
            "Epoch 5/10\n",
            "300/300 - 47s - loss: 0.0588 - accuracy: 0.9827 - val_loss: 0.0318 - val_accuracy: 0.9893 - 47s/epoch - 156ms/step\n",
            "Epoch 6/10\n",
            "300/300 - 47s - loss: 0.0486 - accuracy: 0.9851 - val_loss: 0.0304 - val_accuracy: 0.9886 - 47s/epoch - 157ms/step\n",
            "Epoch 7/10\n",
            "300/300 - 48s - loss: 0.0435 - accuracy: 0.9866 - val_loss: 0.0296 - val_accuracy: 0.9897 - 48s/epoch - 161ms/step\n",
            "Epoch 8/10\n",
            "300/300 - 47s - loss: 0.0399 - accuracy: 0.9876 - val_loss: 0.0264 - val_accuracy: 0.9908 - 47s/epoch - 155ms/step\n",
            "Epoch 9/10\n",
            "300/300 - 49s - loss: 0.0334 - accuracy: 0.9900 - val_loss: 0.0246 - val_accuracy: 0.9923 - 49s/epoch - 164ms/step\n",
            "Epoch 10/10\n",
            "300/300 - 47s - loss: 0.0304 - accuracy: 0.9905 - val_loss: 0.0259 - val_accuracy: 0.9912 - 47s/epoch - 155ms/step\n",
            "Test accuracy: 99.12%\n"
          ]
        }
      ],
      "source": [
        "import tensorflow as tf\n",
        "from tensorflow.keras.datasets import mnist\n",
        "from tensorflow.keras.models import Sequential\n",
        "from tensorflow.keras.layers import Conv2D, MaxPooling2D, Flatten, Dense, Dropout\n",
        "from tensorflow.keras.utils import to_categorical\n",
        "# Load and preprocess the dataset\n",
        "(x_train, y_train), (x_test, y_test) = mnist.load_data()\n",
        "x_train = x_train.reshape(x_train.shape[0], 28, 28, 1).astype('float32') / 255\n",
        "x_test = x_test.reshape(x_test.shape[0], 28, 28, 1).astype('float32') / 255\n",
        "y_train = to_categorical(y_train, 10)\n",
        "y_test = to_categorical(y_test, 10)\n",
        "# Build the CNN model\n",
        "model = Sequential()\n",
        "model.add(Conv2D(32, kernel_size=(3, 3), activation='relu',\n",
        "input_shape=(28, 28, 1)))\n",
        "model.add(MaxPooling2D(pool_size=(2, 2)))\n",
        "model.add(Conv2D(64, kernel_size=(3, 3), activation='relu'))\n",
        "model.add(MaxPooling2D(pool_size=(2, 2)))\n",
        "model.add(Flatten())\n",
        "model.add(Dense(128, activation='relu'))\n",
        "model.add(Dropout(0.5))\n",
        "model.add(Dense(10, activation='softmax'))\n",
        "# Compile the model\n",
        "model.compile(loss='categorical_crossentropy', optimizer='adam',\n",
        "metrics=['accuracy'])\n",
        "# Train the model\n",
        "model.fit(x_train, y_train, validation_data=(x_test, y_test), epochs=10,\n",
        "batch_size=200, verbose=2)\n",
        "# Evaluate the model\n",
        "test_loss, test_acc = model.evaluate(x_test, y_test, verbose=0)\n",
        "print(f'Test accuracy: {test_acc*100:.2f}%')\n"
      ]
    }
  ]
}